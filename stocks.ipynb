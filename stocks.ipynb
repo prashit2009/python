# For stock data, we need first install yfinance through pip install yfinance
# Basic program to get data of stocks
df_yahoo=yf.download(['TCS.NS'],start='2023-01-15',end='2023-02-13',progress = False)
df_yahoo
# Moreover pandas dataframe needs to invoked as the data is stored in the form of dataframe

